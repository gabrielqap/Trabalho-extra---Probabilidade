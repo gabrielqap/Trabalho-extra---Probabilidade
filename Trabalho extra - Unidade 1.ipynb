{
 "cells": [
  {
   "cell_type": "markdown",
   "metadata": {},
   "source": [
    "## Trabalho extra -  Unidade 1 \n",
    "\n",
    "- **Aluno :**: Gabriel Queiroz de Almeida Pereira\n",
    "- **Matrícula: **: 20150128108\n",
    "- **Professor: **: Ivanovitch\n"
   ]
  },
  {
   "cell_type": "markdown",
   "metadata": {},
   "source": [
    "## 1.1 Introdução\n",
    "\n",
    "Esse documento tem como base de dados 2025 sorteios da Mega Sena e demonstra os mais diversos detalhes a cerca dos sorteios, como por exemplo: nº de ganhadores, prêmios acumulados, as 6 dezenas sorteiadas daquela edição, etc. E, ao decorrer dele, faremos uma análise sobre diversos dados contido nele.\n",
    "\n",
    "\n",
    "A base de dados está em formato de planilha em excel. Para carregar esse arquivo em formato de dataframe utilizarames o código abaixo:\n",
    "\n",
    ">```python\n",
    "# Importa as bibliotecas necessárias\n",
    "import pandas as pd\n",
    "# Atribue o nome da planilha para a variável \"arquivo\"\n",
    "arquivo = 'basedados.xlsx'\n",
    "# Carrega a base de dados para um objeto pandas.io.excel.ExcelFile\n",
    "excel = pd.ExcelFile(arquivo)\n",
    "# Imprime o nome das planilhas\n",
    "print(excel.sheet_names)\n",
    "# Carrega a planilha excel para um objeto dataframe\n",
    "dados = excel.parse(0)\n",
    "# Imprime as cinco primeiras linhas do dataframe\n",
    "dados.head()\n",
    "```"
   ]
  },
  {
   "cell_type": "code",
   "execution_count": 27,
   "metadata": {
    "scrolled": false
   },
   "outputs": [
    {
     "name": "stdout",
     "output_type": "stream",
     "text": [
      "['MegaSena']\n"
     ]
    },
    {
     "data": {
      "text/html": [
       "<div>\n",
       "<style scoped>\n",
       "    .dataframe tbody tr th:only-of-type {\n",
       "        vertical-align: middle;\n",
       "    }\n",
       "\n",
       "    .dataframe tbody tr th {\n",
       "        vertical-align: top;\n",
       "    }\n",
       "\n",
       "    .dataframe thead th {\n",
       "        text-align: right;\n",
       "    }\n",
       "</style>\n",
       "<table border=\"1\" class=\"dataframe\">\n",
       "  <thead>\n",
       "    <tr style=\"text-align: right;\">\n",
       "      <th></th>\n",
       "      <th>Concurso</th>\n",
       "      <th>Data Sorteio</th>\n",
       "      <th>Dezena1</th>\n",
       "      <th>Dezena2</th>\n",
       "      <th>Dezena3</th>\n",
       "      <th>Dezena4</th>\n",
       "      <th>Dezena5</th>\n",
       "      <th>Dezena6</th>\n",
       "      <th>Arrecadacao_Total</th>\n",
       "      <th>Ganhadores_Sena</th>\n",
       "      <th>Rateio_Sena</th>\n",
       "      <th>Ganhadores_Quina</th>\n",
       "      <th>Rateio_Quina</th>\n",
       "      <th>Ganhadores_Quadra</th>\n",
       "      <th>Rateio_Quadra</th>\n",
       "      <th>Acumulado</th>\n",
       "      <th>Valor_Acumulado</th>\n",
       "      <th>Estimativa_Prêmio</th>\n",
       "    </tr>\n",
       "  </thead>\n",
       "  <tbody>\n",
       "    <tr>\n",
       "      <th>0</th>\n",
       "      <td>1</td>\n",
       "      <td>1996-03-11</td>\n",
       "      <td>41</td>\n",
       "      <td>5</td>\n",
       "      <td>4</td>\n",
       "      <td>52</td>\n",
       "      <td>30</td>\n",
       "      <td>33</td>\n",
       "      <td>0.0</td>\n",
       "      <td>0</td>\n",
       "      <td>0.00</td>\n",
       "      <td>17</td>\n",
       "      <td>39158.92</td>\n",
       "      <td>2016</td>\n",
       "      <td>330.21</td>\n",
       "      <td>SIM</td>\n",
       "      <td>1714650.23</td>\n",
       "      <td>0</td>\n",
       "    </tr>\n",
       "    <tr>\n",
       "      <th>1</th>\n",
       "      <td>2</td>\n",
       "      <td>1996-03-18</td>\n",
       "      <td>9</td>\n",
       "      <td>39</td>\n",
       "      <td>37</td>\n",
       "      <td>49</td>\n",
       "      <td>43</td>\n",
       "      <td>41</td>\n",
       "      <td>0.0</td>\n",
       "      <td>1</td>\n",
       "      <td>2307162.23</td>\n",
       "      <td>65</td>\n",
       "      <td>14424.02</td>\n",
       "      <td>4488</td>\n",
       "      <td>208.91</td>\n",
       "      <td>NÃO</td>\n",
       "      <td>0.00</td>\n",
       "      <td>0</td>\n",
       "    </tr>\n",
       "    <tr>\n",
       "      <th>2</th>\n",
       "      <td>3</td>\n",
       "      <td>1996-03-25</td>\n",
       "      <td>36</td>\n",
       "      <td>30</td>\n",
       "      <td>10</td>\n",
       "      <td>11</td>\n",
       "      <td>29</td>\n",
       "      <td>47</td>\n",
       "      <td>0.0</td>\n",
       "      <td>2</td>\n",
       "      <td>391192.51</td>\n",
       "      <td>62</td>\n",
       "      <td>10515.93</td>\n",
       "      <td>4261</td>\n",
       "      <td>153.01</td>\n",
       "      <td>NÃO</td>\n",
       "      <td>0.00</td>\n",
       "      <td>0</td>\n",
       "    </tr>\n",
       "    <tr>\n",
       "      <th>3</th>\n",
       "      <td>4</td>\n",
       "      <td>1996-04-01</td>\n",
       "      <td>6</td>\n",
       "      <td>59</td>\n",
       "      <td>42</td>\n",
       "      <td>27</td>\n",
       "      <td>1</td>\n",
       "      <td>5</td>\n",
       "      <td>0.0</td>\n",
       "      <td>0</td>\n",
       "      <td>0.00</td>\n",
       "      <td>39</td>\n",
       "      <td>15322.24</td>\n",
       "      <td>3311</td>\n",
       "      <td>180.48</td>\n",
       "      <td>SIM</td>\n",
       "      <td>717080.75</td>\n",
       "      <td>0</td>\n",
       "    </tr>\n",
       "    <tr>\n",
       "      <th>4</th>\n",
       "      <td>5</td>\n",
       "      <td>1996-04-08</td>\n",
       "      <td>1</td>\n",
       "      <td>19</td>\n",
       "      <td>46</td>\n",
       "      <td>6</td>\n",
       "      <td>16</td>\n",
       "      <td>2</td>\n",
       "      <td>0.0</td>\n",
       "      <td>0</td>\n",
       "      <td>0.00</td>\n",
       "      <td>98</td>\n",
       "      <td>5318.10</td>\n",
       "      <td>5399</td>\n",
       "      <td>96.53</td>\n",
       "      <td>SIM</td>\n",
       "      <td>1342488.85</td>\n",
       "      <td>0</td>\n",
       "    </tr>\n",
       "  </tbody>\n",
       "</table>\n",
       "</div>"
      ],
      "text/plain": [
       "   Concurso Data Sorteio  Dezena1  Dezena2  Dezena3  Dezena4  Dezena5  \\\n",
       "0         1   1996-03-11       41        5        4       52       30   \n",
       "1         2   1996-03-18        9       39       37       49       43   \n",
       "2         3   1996-03-25       36       30       10       11       29   \n",
       "3         4   1996-04-01        6       59       42       27        1   \n",
       "4         5   1996-04-08        1       19       46        6       16   \n",
       "\n",
       "   Dezena6  Arrecadacao_Total  Ganhadores_Sena  Rateio_Sena  Ganhadores_Quina  \\\n",
       "0       33                0.0                0         0.00                17   \n",
       "1       41                0.0                1   2307162.23                65   \n",
       "2       47                0.0                2    391192.51                62   \n",
       "3        5                0.0                0         0.00                39   \n",
       "4        2                0.0                0         0.00                98   \n",
       "\n",
       "   Rateio_Quina  Ganhadores_Quadra  Rateio_Quadra Acumulado  Valor_Acumulado  \\\n",
       "0      39158.92               2016         330.21       SIM       1714650.23   \n",
       "1      14424.02               4488         208.91       NÃO             0.00   \n",
       "2      10515.93               4261         153.01       NÃO             0.00   \n",
       "3      15322.24               3311         180.48       SIM        717080.75   \n",
       "4       5318.10               5399          96.53       SIM       1342488.85   \n",
       "\n",
       "   Estimativa_Prêmio  \n",
       "0                  0  \n",
       "1                  0  \n",
       "2                  0  \n",
       "3                  0  \n",
       "4                  0  "
      ]
     },
     "execution_count": 27,
     "metadata": {},
     "output_type": "execute_result"
    }
   ],
   "source": [
    "import pandas as pd\n",
    "arquivo = 'basedados.xlsx'\n",
    "excel = pd.ExcelFile(arquivo)\n",
    "print(excel.sheet_names)\n",
    "dados = excel.parse(0)\n",
    "dados.head()"
   ]
  },
  {
   "cell_type": "markdown",
   "metadata": {},
   "source": [
    "# 1.2 Curiosidades usando o Pandas\n",
    "\n",
    "Como todo jogo de sorte, há sempre aquelas curiosidades a cerca de seus resultados. Como, por exemplo, quais foram os números mais sorteados? Qual foi o maior valor já sorteado? Entre outras. \n",
    "\n",
    "Logo, utilizaremos algumas ferramentas do *Pandas* pra trazer 3 curiosidades as quais achamos ser interessante e, juntamente, explicaremos como ela foi desenvolvida."
   ]
  },
  {
   "cell_type": "markdown",
   "metadata": {},
   "source": [
    "### 1.2.1 Qual foi o maior valor já sorteado?"
   ]
  },
  {
   "cell_type": "markdown",
   "metadata": {},
   "source": [
    "O maior valor de um sorteio da Mega-Sena é quando se acerta as 6 unidades. Logo, sua forma de calculo é a seguinte: \n",
    "\n",
    "$$Prêmio = Ganhadores\\_Sena\t\\times Rateio\\_Sena$$"
   ]
  },
  {
   "cell_type": "markdown",
   "metadata": {},
   "source": [
    "Para isso criaremos uma nova coluna para os prêmios, chamada [Premio]."
   ]
  },
  {
   "cell_type": "code",
   "execution_count": 42,
   "metadata": {},
   "outputs": [],
   "source": [
    "dados[\"Premio\"] = dados[\"Ganhadores_Sena\"] * dados[\"Rateio_Sena\"]"
   ]
  },
  {
   "cell_type": "markdown",
   "metadata": {},
   "source": [
    "Logo, para acharmos o maior prêmio basta utilizarmos a função *max()*"
   ]
  },
  {
   "cell_type": "code",
   "execution_count": 52,
   "metadata": {},
   "outputs": [
    {
     "data": {
      "text/plain": [
       "306718743.68"
      ]
     },
     "execution_count": 52,
     "metadata": {},
     "output_type": "execute_result"
    }
   ],
   "source": [
    "dados[\"Premio\"].max()"
   ]
  },
  {
   "cell_type": "markdown",
   "metadata": {},
   "source": [
    "Isso mesmo, R$306.718.743.68 foi o maior prêmio já realizado desde março de 1996.\n",
    "O concurso foi o número 2000, para localizá-lo basta-nos utilizarmos desse método: "
   ]
  },
  {
   "cell_type": "code",
   "execution_count": 44,
   "metadata": {
    "scrolled": true
   },
   "outputs": [
    {
     "data": {
      "text/html": [
       "<div>\n",
       "<style scoped>\n",
       "    .dataframe tbody tr th:only-of-type {\n",
       "        vertical-align: middle;\n",
       "    }\n",
       "\n",
       "    .dataframe tbody tr th {\n",
       "        vertical-align: top;\n",
       "    }\n",
       "\n",
       "    .dataframe thead th {\n",
       "        text-align: right;\n",
       "    }\n",
       "</style>\n",
       "<table border=\"1\" class=\"dataframe\">\n",
       "  <thead>\n",
       "    <tr style=\"text-align: right;\">\n",
       "      <th></th>\n",
       "      <th>Concurso</th>\n",
       "      <th>Data Sorteio</th>\n",
       "      <th>Dezena1</th>\n",
       "      <th>Dezena2</th>\n",
       "      <th>Dezena3</th>\n",
       "      <th>Dezena4</th>\n",
       "      <th>Dezena5</th>\n",
       "      <th>Dezena6</th>\n",
       "      <th>Arrecadacao_Total</th>\n",
       "      <th>Ganhadores_Sena</th>\n",
       "      <th>Rateio_Sena</th>\n",
       "      <th>Ganhadores_Quina</th>\n",
       "      <th>Rateio_Quina</th>\n",
       "      <th>Ganhadores_Quadra</th>\n",
       "      <th>Rateio_Quadra</th>\n",
       "      <th>Acumulado</th>\n",
       "      <th>Valor_Acumulado</th>\n",
       "      <th>Estimativa_Prêmio</th>\n",
       "      <th>Premio</th>\n",
       "    </tr>\n",
       "  </thead>\n",
       "  <tbody>\n",
       "    <tr>\n",
       "      <th>1999</th>\n",
       "      <td>2000</td>\n",
       "      <td>2017-12-31</td>\n",
       "      <td>6</td>\n",
       "      <td>37</td>\n",
       "      <td>34</td>\n",
       "      <td>10</td>\n",
       "      <td>3</td>\n",
       "      <td>17</td>\n",
       "      <td>890947368.5</td>\n",
       "      <td>17</td>\n",
       "      <td>18042279.04</td>\n",
       "      <td>4862</td>\n",
       "      <td>10565.03</td>\n",
       "      <td>173428</td>\n",
       "      <td>423.12</td>\n",
       "      <td>NÃO</td>\n",
       "      <td>0.0</td>\n",
       "      <td>2000000</td>\n",
       "      <td>3.067187e+08</td>\n",
       "    </tr>\n",
       "  </tbody>\n",
       "</table>\n",
       "</div>"
      ],
      "text/plain": [
       "      Concurso Data Sorteio  Dezena1  Dezena2  Dezena3  Dezena4  Dezena5  \\\n",
       "1999      2000   2017-12-31        6       37       34       10        3   \n",
       "\n",
       "      Dezena6  Arrecadacao_Total  Ganhadores_Sena  Rateio_Sena  \\\n",
       "1999       17        890947368.5               17  18042279.04   \n",
       "\n",
       "      Ganhadores_Quina  Rateio_Quina  Ganhadores_Quadra  Rateio_Quadra  \\\n",
       "1999              4862      10565.03             173428         423.12   \n",
       "\n",
       "     Acumulado  Valor_Acumulado  Estimativa_Prêmio        Premio  \n",
       "1999       NÃO              0.0            2000000  3.067187e+08  "
      ]
     },
     "execution_count": 44,
     "metadata": {},
     "output_type": "execute_result"
    }
   ],
   "source": [
    "dados[dados[\"Premio\"] == dados[\"Premio\"].max()]\n"
   ]
  },
  {
   "cell_type": "markdown",
   "metadata": {},
   "source": [
    "Para localizar, em ambos os casos, foi bem fácil. No primeiro caso nós utilizamos o método *max()*, ele encontra o maior valor daquela coluna, de todas as linhas da planilha. \n",
    "\n",
    "Já no segundo caso, nós simplesmente procuramos o item entre os dados, em que, o seu valor de [\"Premio\"] seja igual ao máximo. Logo, ele retornará a linha que conterá o maior valor de rateio, que é o concurso **2000**"
   ]
  },
  {
   "cell_type": "markdown",
   "metadata": {},
   "source": [
    "### 1.2.2 Quais foram as dezenas mais sorteada?\n",
    "\n"
   ]
  },
  {
   "cell_type": "code",
   "execution_count": 38,
   "metadata": {},
   "outputs": [
    {
     "data": {
      "text/plain": [
       "10    113\n",
       "2     108\n",
       "53    106\n",
       "30    103\n",
       "52    103\n",
       "5     100\n",
       "dtype: int64"
      ]
     },
     "execution_count": 38,
     "metadata": {},
     "output_type": "execute_result"
    }
   ],
   "source": [
    "colunas = [\"Dezena1\", \"Dezena2\", \"Dezena3\", \"Dezena4\", \"Dezena5\", \"Dezena6\"]\n",
    "\n",
    "dados[dados[\"Data Sorteio\"] > \"2010-01-01\"][colunas].unstack().value_counts()[0:6]"
   ]
  },
  {
   "cell_type": "markdown",
   "metadata": {},
   "source": [
    "As dezenas 02, 05, 10, 30, 52, 52 são as 6 dezenas mais sorteadas até hoje. \n",
    "\n",
    "Para acha-las fazemos assim:\n",
    "Primeiro criamos um vetor com as colunas das dezenas. \n",
    "\n",
    "**Explicação da função....**\n",
    "\n",
    "\n",
    "Depois, chamamos a função *value_counts()*, que irá retornar em ordem crescente as dezenas e os números de vezes em que elas aparecem na tabela de dados. E, por fim que, selecionamos o *[0:6]*, que retornará somente os 6 primeiros itens."
   ]
  },
  {
   "cell_type": "markdown",
   "metadata": {},
   "source": [
    "### 1.2.3 Qual foi o sorteiro com mais vencedores?\n",
    "\n",
    "Você acertar 6 dezenas deve ser uma baita sorte, mas ter que dividir com vários vencedores? Shii... Essa com certeza deve ser a parte mais difícil. Mas, vamos lá, qual foi o sorteio em que mais se foi dividido o prêmio? Vamos achá-lo, é bem simples.\n",
    "\n"
   ]
  },
  {
   "cell_type": "code",
   "execution_count": 50,
   "metadata": {},
   "outputs": [
    {
     "data": {
      "text/html": [
       "<div>\n",
       "<style scoped>\n",
       "    .dataframe tbody tr th:only-of-type {\n",
       "        vertical-align: middle;\n",
       "    }\n",
       "\n",
       "    .dataframe tbody tr th {\n",
       "        vertical-align: top;\n",
       "    }\n",
       "\n",
       "    .dataframe thead th {\n",
       "        text-align: right;\n",
       "    }\n",
       "</style>\n",
       "<table border=\"1\" class=\"dataframe\">\n",
       "  <thead>\n",
       "    <tr style=\"text-align: right;\">\n",
       "      <th></th>\n",
       "      <th>Concurso</th>\n",
       "      <th>Data Sorteio</th>\n",
       "      <th>Dezena1</th>\n",
       "      <th>Dezena2</th>\n",
       "      <th>Dezena3</th>\n",
       "      <th>Dezena4</th>\n",
       "      <th>Dezena5</th>\n",
       "      <th>Dezena6</th>\n",
       "      <th>Arrecadacao_Total</th>\n",
       "      <th>Ganhadores_Sena</th>\n",
       "      <th>Rateio_Sena</th>\n",
       "      <th>Ganhadores_Quina</th>\n",
       "      <th>Rateio_Quina</th>\n",
       "      <th>Ganhadores_Quadra</th>\n",
       "      <th>Rateio_Quadra</th>\n",
       "      <th>Acumulado</th>\n",
       "      <th>Valor_Acumulado</th>\n",
       "      <th>Estimativa_Prêmio</th>\n",
       "      <th>Premio</th>\n",
       "    </tr>\n",
       "  </thead>\n",
       "  <tbody>\n",
       "    <tr>\n",
       "      <th>1999</th>\n",
       "      <td>2000</td>\n",
       "      <td>2017-12-31</td>\n",
       "      <td>6</td>\n",
       "      <td>37</td>\n",
       "      <td>34</td>\n",
       "      <td>10</td>\n",
       "      <td>3</td>\n",
       "      <td>17</td>\n",
       "      <td>890947368.5</td>\n",
       "      <td>17</td>\n",
       "      <td>18042279.04</td>\n",
       "      <td>4862</td>\n",
       "      <td>10565.03</td>\n",
       "      <td>173428</td>\n",
       "      <td>423.12</td>\n",
       "      <td>NÃO</td>\n",
       "      <td>0.0</td>\n",
       "      <td>2000000</td>\n",
       "      <td>3.067187e+08</td>\n",
       "    </tr>\n",
       "  </tbody>\n",
       "</table>\n",
       "</div>"
      ],
      "text/plain": [
       "      Concurso Data Sorteio  Dezena1  Dezena2  Dezena3  Dezena4  Dezena5  \\\n",
       "1999      2000   2017-12-31        6       37       34       10        3   \n",
       "\n",
       "      Dezena6  Arrecadacao_Total  Ganhadores_Sena  Rateio_Sena  \\\n",
       "1999       17        890947368.5               17  18042279.04   \n",
       "\n",
       "      Ganhadores_Quina  Rateio_Quina  Ganhadores_Quadra  Rateio_Quadra  \\\n",
       "1999              4862      10565.03             173428         423.12   \n",
       "\n",
       "     Acumulado  Valor_Acumulado  Estimativa_Prêmio        Premio  \n",
       "1999       NÃO              0.0            2000000  3.067187e+08  "
      ]
     },
     "execution_count": 50,
     "metadata": {},
     "output_type": "execute_result"
    }
   ],
   "source": [
    "dados[dados[\"Ganhadores_Sena\"] == dados[\"Ganhadores_Sena\"].max()]"
   ]
  },
  {
   "cell_type": "markdown",
   "metadata": {},
   "source": [
    "Realizamos o mesmo procedimento do processo anterior, entretanto, com colunas diferentes.\n",
    "E, para nossa surpresa, foi o mesmo concurso em que teve o maior prêmio dos últimos anos, o concurso ***2000***.\n",
    "Entretanto, como mostra o rateio, cada um ganhou ***R$180.042.279,04*** \n",
    "\n",
    "É... não deve ter sido tão difícil dividir um prêmio tão alto, rs."
   ]
  },
  {
   "cell_type": "markdown",
   "metadata": {},
   "source": [
    "# 1.3 Análise gráfica básica dos valores sorteados\n",
    "\n",
    "Utilizando a biblioteca [matplotlib](http://matplotlib.org/), faremos uma análise gráfica dos aumentos e declíneos dos valores já sorteados, levando em conta todos os anos do sorteiro. \n",
    "Essa biblioteca nos permite criar e customizar um gráfico usando a base de dados."
   ]
  },
  {
   "cell_type": "markdown",
   "metadata": {},
   "source": [
    "O módulo geralmente é importado como *plt*:\n",
    "\n",
    ">```python\n",
    "import matplotlib.pyplot as plt\n",
    "```\n",
    "\n",
    "Ele contém duas funções: \n",
    "\n",
    ">```python\n",
    "plt.plot()\n",
    "plt.show()\n",
    "```\n",
    "\n",
    "A *plt.plot()* gera o gráfico e a *plt.show()* imprime-o."
   ]
  },
  {
   "cell_type": "markdown",
   "metadata": {},
   "source": [
    "<br>\n",
    "<div class=\"alert alert-info\">\n",
    "<b>Gráfico 1</b>\n",
    "</div>"
   ]
  },
  {
   "cell_type": "code",
   "execution_count": 68,
   "metadata": {},
   "outputs": [
    {
     "data": {
      "image/png": "[encoded data removed]",
      "text/plain": [
       "<matplotlib.figure.Figure at 0x7f0a94d2c780>"
      ]
     },
     "metadata": {},
     "output_type": "display_data"
    }
   ],
   "source": [
    "#Importaremos a biblioteca e geraremos o gráfico vázio.\n",
    "import matplotlib.pyplot as plt\n",
    "\n",
    "\n",
    "#Utilizaremos os valores como eixo Y e os anos como eixo X.\n",
    "plt.figure(figsize=(10,6))\n",
    "plt.plot( dados[\"Data Sorteio\"], dados[\"Premio\"])\n",
    "plt.xlabel(\"Anos\")\n",
    "plt.ylabel(\"Valor sorteado\")\n",
    "plt.title(\"Valor de cada sorteio baseado no ano.\")\n",
    "plt.show()"
   ]
  },
  {
   "cell_type": "markdown",
   "metadata": {},
   "source": [
    "É surpreendente a diferença a alta dos valores nos últimos 10 anos. Como, de 2008 para 2018 houveram índices bem maiores que de 1998 à 2008."
   ]
  },
  {
   "cell_type": "code",
   "execution_count": 94,
   "metadata": {},
   "outputs": [],
   "source": [
    "#É interessante que se ponha AQUI subplots de 1998-2008 e 2008-2018\n",
    "#Lembrar de procurar a função que dividirá por anos.\n",
    "for i in dados[\"Data Sorteio\"].dt.year:\n",
    "   if i == \"2009\":\n",
    "    break\n",
    "#CONTINUAR....\n",
    "#DIVIDIR POR DECADAS [1996-2000], [2000, 2010], [2010, 2018]"
   ]
  },
  {
   "cell_type": "markdown",
   "metadata": {},
   "source": [
    "## 1.3 Análise baseada em Governos.\n",
    "\n",
    "A crise política brasileira vem afetando diversos pilares, um dos principais é a economia. Com a economia desrregulada, todos os pilares da sociedade são alterados, inclusive os jogos de sorte. Logo, visto que o sorteiro da MegaSena é realizado pelo governo federal, resolvemos fazer uma análise relacionando um ao outros, as apostas, os valores e o governo atual daquele ano. "
   ]
  },
  {
   "cell_type": "markdown",
   "metadata": {},
   "source": [
    "Valendo ressaltar que nos últimos anos, passamos por 3 presidentes. O Lula, a Dilma e o Michel Temer, e ambos se utilizaram de estratégias econômicas diferentes. Logo, faremos uma análise com parte do governo dos três.\n",
    "\n",
    "Com isso, trabalharemos com as funções *subplots()*. Essa função nos ajudará a criar diversos gráficos, podendo ser um ao lado ou abaixo do outro. Ela é mais uma das funções da biblioteca *matplotlib.pyplot*."
   ]
  },
  {
   "cell_type": "markdown",
   "metadata": {},
   "source": [
    "<br>\n",
    "<div class=\"alert alert-info\">\n",
    "<b>Gráfico 2</b>\n",
    "</div>"
   ]
  },
  {
   "cell_type": "code",
   "execution_count": 4,
   "metadata": {},
   "outputs": [],
   "source": [
    "#Aqui, se dividirá os anos da Mega-Sena por anos.\n",
    "#Primeiro, veremos o gráfico dos dois ultimos anos do governo Lula.\n",
    "#Depois, veremos o gráfico dos 6 anos de governo Dilma.\n",
    "#Logo em seguida, veremos os dois ultimos anos no governo Temer.\n",
    "#Ressaltaremos também que o real teve uma desvalorizada ENORME nos ultimos anos.\n",
    "#Lembrar também de comparar com o dolar daqueles anos."
   ]
  },
  {
   "cell_type": "markdown",
   "metadata": {},
   "source": [
    "## 1.4 A DEFINIR"
   ]
  },
  {
   "cell_type": "markdown",
   "metadata": {},
   "source": [
    "Poderia fazer um estado a cerca da probabilidade de ganhar dinheiro...\n",
    "Ex.: Comparar as chances de ganhar uma Quadra, Quina ou Mega e construir gráficos acima disso."
   ]
  }
 ],
 "metadata": {
  "kernelspec": {
   "display_name": "Python 3",
   "language": "python",
   "name": "python3"
  },
  "language_info": {
   "codemirror_mode": {
    "name": "ipython",
    "version": 3
   },
   "file_extension": ".py",
   "mimetype": "text/x-python",
   "name": "python",
   "nbconvert_exporter": "python",
   "pygments_lexer": "ipython3",
   "version": "3.6.4"
  }
 },
 "nbformat": 4,
 "nbformat_minor": 2
}
