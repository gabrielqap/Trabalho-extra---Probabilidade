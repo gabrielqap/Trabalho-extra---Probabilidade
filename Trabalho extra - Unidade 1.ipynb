{
 "cells": [
  {
   "cell_type": "markdown",
   "metadata": {},
   "source": [
    "## Trabalho extra -  Unidade 1 \n",
    "\n",
    "- **Aluno :**: Gabriel Queiroz de Almeida Pereira\n",
    "- **Matrícula: **: 20150128108\n",
    "- **Professor: **: Ivanovitch\n"
   ]
  },
  {
   "cell_type": "markdown",
   "metadata": {},
   "source": [
    "## 1.1 Introdução\n",
    "\n",
    "Esse documento tem como base de dados 2025 sorteios da Mega Sena e demonstra os detalhes a cerca dos sorteios, como por exemplo: nº de ganhadores, prêmios acumulados, as 6 dezenas sorteiadas daquela edição, etc. E, ao decorrer dele, faremos uma análise sobre diversos dados contido nele.\n",
    "\n",
    "\n",
    "A base de dados está em formato de planilha em excel. Para carregar esse arquivo em formato de dataframe utilizarames o código abaixo:\n",
    "\n",
    ">```python\n",
    "# Importa as bibliotecas necessárias\n",
    "import pandas as pd\n",
    "# Atribue o nome da planilha para a variável \"arquivo\"\n",
    "arquivo = 'basedados.xlsx'\n",
    "# Carrega a base de dados para um objeto pandas.io.excel.ExcelFile\n",
    "excel = pd.ExcelFile(arquivo)\n",
    "# Imprime o nome das planilhas\n",
    "print(excel.sheet_names)\n",
    "# Carrega a planilha excel para um objeto dataframe\n",
    "dados = excel.parse(0)\n",
    "# Imprime as cinco primeiras linhas do dataframe\n",
    "dados.head()\n",
    "```"
   ]
  },
  {
   "cell_type": "code",
   "execution_count": 21,
   "metadata": {
    "scrolled": false
   },
   "outputs": [
    {
     "name": "stdout",
     "output_type": "stream",
     "text": [
      "['MegaSena']\n"
     ]
    },
    {
     "data": {
      "text/html": [
       "<div>\n",
       "<style scoped>\n",
       "    .dataframe tbody tr th:only-of-type {\n",
       "        vertical-align: middle;\n",
       "    }\n",
       "\n",
       "    .dataframe tbody tr th {\n",
       "        vertical-align: top;\n",
       "    }\n",
       "\n",
       "    .dataframe thead th {\n",
       "        text-align: right;\n",
       "    }\n",
       "</style>\n",
       "<table border=\"1\" class=\"dataframe\">\n",
       "  <thead>\n",
       "    <tr style=\"text-align: right;\">\n",
       "      <th></th>\n",
       "      <th>Concurso</th>\n",
       "      <th>Data Sorteio</th>\n",
       "      <th>Dezena1</th>\n",
       "      <th>Dezena2</th>\n",
       "      <th>Dezena3</th>\n",
       "      <th>Dezena4</th>\n",
       "      <th>Dezena5</th>\n",
       "      <th>Dezena6</th>\n",
       "      <th>Arrecadacao_Total</th>\n",
       "      <th>Ganhadores_Sena</th>\n",
       "      <th>Rateio_Sena</th>\n",
       "      <th>Ganhadores_Quina</th>\n",
       "      <th>Rateio_Quina</th>\n",
       "      <th>Ganhadores_Quadra</th>\n",
       "      <th>Rateio_Quadra</th>\n",
       "      <th>Acumulado</th>\n",
       "      <th>Valor_Acumulado</th>\n",
       "      <th>Estimativa_Prêmio</th>\n",
       "    </tr>\n",
       "  </thead>\n",
       "  <tbody>\n",
       "    <tr>\n",
       "      <th>0</th>\n",
       "      <td>1</td>\n",
       "      <td>1996-03-11</td>\n",
       "      <td>41</td>\n",
       "      <td>5</td>\n",
       "      <td>4</td>\n",
       "      <td>52</td>\n",
       "      <td>30</td>\n",
       "      <td>33</td>\n",
       "      <td>0.0</td>\n",
       "      <td>0</td>\n",
       "      <td>0.00</td>\n",
       "      <td>17</td>\n",
       "      <td>39158.92</td>\n",
       "      <td>2016</td>\n",
       "      <td>330.21</td>\n",
       "      <td>SIM</td>\n",
       "      <td>1714650.23</td>\n",
       "      <td>0</td>\n",
       "    </tr>\n",
       "    <tr>\n",
       "      <th>1</th>\n",
       "      <td>2</td>\n",
       "      <td>1996-03-18</td>\n",
       "      <td>9</td>\n",
       "      <td>39</td>\n",
       "      <td>37</td>\n",
       "      <td>49</td>\n",
       "      <td>43</td>\n",
       "      <td>41</td>\n",
       "      <td>0.0</td>\n",
       "      <td>1</td>\n",
       "      <td>2307162.23</td>\n",
       "      <td>65</td>\n",
       "      <td>14424.02</td>\n",
       "      <td>4488</td>\n",
       "      <td>208.91</td>\n",
       "      <td>NÃO</td>\n",
       "      <td>0.00</td>\n",
       "      <td>0</td>\n",
       "    </tr>\n",
       "    <tr>\n",
       "      <th>2</th>\n",
       "      <td>3</td>\n",
       "      <td>1996-03-25</td>\n",
       "      <td>36</td>\n",
       "      <td>30</td>\n",
       "      <td>10</td>\n",
       "      <td>11</td>\n",
       "      <td>29</td>\n",
       "      <td>47</td>\n",
       "      <td>0.0</td>\n",
       "      <td>2</td>\n",
       "      <td>391192.51</td>\n",
       "      <td>62</td>\n",
       "      <td>10515.93</td>\n",
       "      <td>4261</td>\n",
       "      <td>153.01</td>\n",
       "      <td>NÃO</td>\n",
       "      <td>0.00</td>\n",
       "      <td>0</td>\n",
       "    </tr>\n",
       "    <tr>\n",
       "      <th>3</th>\n",
       "      <td>4</td>\n",
       "      <td>1996-04-01</td>\n",
       "      <td>6</td>\n",
       "      <td>59</td>\n",
       "      <td>42</td>\n",
       "      <td>27</td>\n",
       "      <td>1</td>\n",
       "      <td>5</td>\n",
       "      <td>0.0</td>\n",
       "      <td>0</td>\n",
       "      <td>0.00</td>\n",
       "      <td>39</td>\n",
       "      <td>15322.24</td>\n",
       "      <td>3311</td>\n",
       "      <td>180.48</td>\n",
       "      <td>SIM</td>\n",
       "      <td>717080.75</td>\n",
       "      <td>0</td>\n",
       "    </tr>\n",
       "    <tr>\n",
       "      <th>4</th>\n",
       "      <td>5</td>\n",
       "      <td>1996-04-08</td>\n",
       "      <td>1</td>\n",
       "      <td>19</td>\n",
       "      <td>46</td>\n",
       "      <td>6</td>\n",
       "      <td>16</td>\n",
       "      <td>2</td>\n",
       "      <td>0.0</td>\n",
       "      <td>0</td>\n",
       "      <td>0.00</td>\n",
       "      <td>98</td>\n",
       "      <td>5318.10</td>\n",
       "      <td>5399</td>\n",
       "      <td>96.53</td>\n",
       "      <td>SIM</td>\n",
       "      <td>1342488.85</td>\n",
       "      <td>0</td>\n",
       "    </tr>\n",
       "  </tbody>\n",
       "</table>\n",
       "</div>"
      ],
      "text/plain": [
       "   Concurso Data Sorteio  Dezena1  Dezena2  Dezena3  Dezena4  Dezena5  \\\n",
       "0         1   1996-03-11       41        5        4       52       30   \n",
       "1         2   1996-03-18        9       39       37       49       43   \n",
       "2         3   1996-03-25       36       30       10       11       29   \n",
       "3         4   1996-04-01        6       59       42       27        1   \n",
       "4         5   1996-04-08        1       19       46        6       16   \n",
       "\n",
       "   Dezena6  Arrecadacao_Total  Ganhadores_Sena  Rateio_Sena  Ganhadores_Quina  \\\n",
       "0       33                0.0                0         0.00                17   \n",
       "1       41                0.0                1   2307162.23                65   \n",
       "2       47                0.0                2    391192.51                62   \n",
       "3        5                0.0                0         0.00                39   \n",
       "4        2                0.0                0         0.00                98   \n",
       "\n",
       "   Rateio_Quina  Ganhadores_Quadra  Rateio_Quadra Acumulado  Valor_Acumulado  \\\n",
       "0      39158.92               2016         330.21       SIM       1714650.23   \n",
       "1      14424.02               4488         208.91       NÃO             0.00   \n",
       "2      10515.93               4261         153.01       NÃO             0.00   \n",
       "3      15322.24               3311         180.48       SIM        717080.75   \n",
       "4       5318.10               5399          96.53       SIM       1342488.85   \n",
       "\n",
       "   Estimativa_Prêmio  \n",
       "0                  0  \n",
       "1                  0  \n",
       "2                  0  \n",
       "3                  0  \n",
       "4                  0  "
      ]
     },
     "execution_count": 21,
     "metadata": {},
     "output_type": "execute_result"
    }
   ],
   "source": [
    "import pandas as pd\n",
    "arquivo = 'basedados.xlsx'\n",
    "excel = pd.ExcelFile(arquivo)\n",
    "print(excel.sheet_names)\n",
    "dados = excel.parse(0)\n",
    "dados.head()"
   ]
  },
  {
   "cell_type": "markdown",
   "metadata": {},
   "source": [
    "# 1.2 Curiosidades usando o Pandas\n",
    "\n",
    "Como todo jogo de sorte, há sempre aquelas curiosidades a cerca de seus resultados. Como, por exemplo, quais foram os números mais sorteados? Qual foi o maior valor já sorteado? Entre outras. \n",
    "\n",
    "Logo, utilizaremos algumas ferramentas do *Pandas* pra trazer 3 curiosidades as quais achamos ser interessante e, juntamente, explicaremos como ela foi desenvolvida."
   ]
  },
  {
   "cell_type": "markdown",
   "metadata": {},
   "source": [
    "### 1.2.1 Qual foi o maior valor já sorteado?"
   ]
  },
  {
   "cell_type": "markdown",
   "metadata": {},
   "source": [
    "O maior valor de um sorteio da Mega-Sena é quando se acerta as 6 unidades. Logo, sua forma de calculo é a seguinte: \n",
    "\n",
    "$$Prêmio = Ganhadores\\_Sena\t\\times Rateio\\_Sena$$"
   ]
  },
  {
   "cell_type": "markdown",
   "metadata": {},
   "source": [
    "Para isso criaremos uma nova coluna para os prêmios, chamada [Premio]."
   ]
  },
  {
   "cell_type": "code",
   "execution_count": 24,
   "metadata": {},
   "outputs": [],
   "source": [
    "dados[\"Premio\"] = dados[\"Ganhadores_Sena\"] * dados[\"Rateio_Sena\"]"
   ]
  },
  {
   "cell_type": "markdown",
   "metadata": {},
   "source": [
    "Logo, para acharmos o maior prêmio basta utilizarmos a função *max()*, que achará o maior valor de toda a coluna."
   ]
  },
  {
   "cell_type": "code",
   "execution_count": 52,
   "metadata": {},
   "outputs": [
    {
     "data": {
      "text/plain": [
       "306718743.68"
      ]
     },
     "execution_count": 52,
     "metadata": {},
     "output_type": "execute_result"
    }
   ],
   "source": [
    "dados[\"Premio\"].max()"
   ]
  },
  {
   "cell_type": "markdown",
   "metadata": {},
   "source": [
    "Isso mesmo, R$306.718.743.68 foi o maior prêmio já realizado desde março de 1996.\n",
    "O concurso foi o número 2000, a Mega dá virada deste ano (2018), para localizá-lo basta-nos utilizarmos desse método: "
   ]
  },
  {
   "cell_type": "code",
   "execution_count": 44,
   "metadata": {
    "scrolled": true
   },
   "outputs": [
    {
     "data": {
      "text/html": [
       "<div>\n",
       "<style scoped>\n",
       "    .dataframe tbody tr th:only-of-type {\n",
       "        vertical-align: middle;\n",
       "    }\n",
       "\n",
       "    .dataframe tbody tr th {\n",
       "        vertical-align: top;\n",
       "    }\n",
       "\n",
       "    .dataframe thead th {\n",
       "        text-align: right;\n",
       "    }\n",
       "</style>\n",
       "<table border=\"1\" class=\"dataframe\">\n",
       "  <thead>\n",
       "    <tr style=\"text-align: right;\">\n",
       "      <th></th>\n",
       "      <th>Concurso</th>\n",
       "      <th>Data Sorteio</th>\n",
       "      <th>Dezena1</th>\n",
       "      <th>Dezena2</th>\n",
       "      <th>Dezena3</th>\n",
       "      <th>Dezena4</th>\n",
       "      <th>Dezena5</th>\n",
       "      <th>Dezena6</th>\n",
       "      <th>Arrecadacao_Total</th>\n",
       "      <th>Ganhadores_Sena</th>\n",
       "      <th>Rateio_Sena</th>\n",
       "      <th>Ganhadores_Quina</th>\n",
       "      <th>Rateio_Quina</th>\n",
       "      <th>Ganhadores_Quadra</th>\n",
       "      <th>Rateio_Quadra</th>\n",
       "      <th>Acumulado</th>\n",
       "      <th>Valor_Acumulado</th>\n",
       "      <th>Estimativa_Prêmio</th>\n",
       "      <th>Premio</th>\n",
       "    </tr>\n",
       "  </thead>\n",
       "  <tbody>\n",
       "    <tr>\n",
       "      <th>1999</th>\n",
       "      <td>2000</td>\n",
       "      <td>2017-12-31</td>\n",
       "      <td>6</td>\n",
       "      <td>37</td>\n",
       "      <td>34</td>\n",
       "      <td>10</td>\n",
       "      <td>3</td>\n",
       "      <td>17</td>\n",
       "      <td>890947368.5</td>\n",
       "      <td>17</td>\n",
       "      <td>18042279.04</td>\n",
       "      <td>4862</td>\n",
       "      <td>10565.03</td>\n",
       "      <td>173428</td>\n",
       "      <td>423.12</td>\n",
       "      <td>NÃO</td>\n",
       "      <td>0.0</td>\n",
       "      <td>2000000</td>\n",
       "      <td>3.067187e+08</td>\n",
       "    </tr>\n",
       "  </tbody>\n",
       "</table>\n",
       "</div>"
      ],
      "text/plain": [
       "      Concurso Data Sorteio  Dezena1  Dezena2  Dezena3  Dezena4  Dezena5  \\\n",
       "1999      2000   2017-12-31        6       37       34       10        3   \n",
       "\n",
       "      Dezena6  Arrecadacao_Total  Ganhadores_Sena  Rateio_Sena  \\\n",
       "1999       17        890947368.5               17  18042279.04   \n",
       "\n",
       "      Ganhadores_Quina  Rateio_Quina  Ganhadores_Quadra  Rateio_Quadra  \\\n",
       "1999              4862      10565.03             173428         423.12   \n",
       "\n",
       "     Acumulado  Valor_Acumulado  Estimativa_Prêmio        Premio  \n",
       "1999       NÃO              0.0            2000000  3.067187e+08  "
      ]
     },
     "execution_count": 44,
     "metadata": {},
     "output_type": "execute_result"
    }
   ],
   "source": [
    "dados[dados[\"Premio\"] == dados[\"Premio\"].max()]\n"
   ]
  },
  {
   "cell_type": "markdown",
   "metadata": {},
   "source": [
    "Para localizar, em ambos os casos, foi bem fácil. No primeiro caso nós utilizamos o método *max()*, ele encontra o maior valor daquela coluna, de todas as linhas da planilha. \n",
    "\n",
    "Já no segundo caso, nós simplesmente procuramos o item entre os dados, em que, o seu valor de [\"Premio\"] seja igual ao máximo. Logo, ele retornará a linha que conterá o maior valor de prêmio, que é o concurso **2000**."
   ]
  },
  {
   "cell_type": "markdown",
   "metadata": {},
   "source": [
    "### 1.2.2 Quais foram as dezenas mais sorteada?\n",
    "\n"
   ]
  },
  {
   "cell_type": "code",
   "execution_count": 22,
   "metadata": {},
   "outputs": [
    {
     "data": {
      "text/plain": [
       "5     233\n",
       "53    230\n",
       "10    227\n",
       "23    224\n",
       "4     224\n",
       "54    221\n",
       "dtype: int64"
      ]
     },
     "execution_count": 22,
     "metadata": {},
     "output_type": "execute_result"
    }
   ],
   "source": [
    "colunas = [\"Dezena1\", \"Dezena2\", \"Dezena3\", \"Dezena4\", \"Dezena5\", \"Dezena6\"]\n",
    "\n",
    "dados[dados[\"Data Sorteio\"] > \"1996-01-01\"][colunas].unstack().value_counts()[0:6]"
   ]
  },
  {
   "cell_type": "markdown",
   "metadata": {},
   "source": [
    "As dezenas 02, 05, 10, 30, 52, 52 são as 6 dezenas mais sorteadas até hoje. \n",
    "\n",
    "Para acha-las fazemos assim:\n",
    "Primeiramente criamos um vetor com as colunas das dezenas. \n",
    "\n",
    "**Explicação da função....**\n",
    "\n",
    "\n",
    "Depois, chamamos a função *value_counts()*, que irá retornar em ordem crescente as dezenas e os números de vezes em que elas aparecem na tabela de dados. E, por fim que, selecionamos o *[0:6]*, que retornará somente os 6 primeiros itens."
   ]
  },
  {
   "cell_type": "markdown",
   "metadata": {},
   "source": [
    "### 1.2.3 Qual foi o sorteiro com mais vencedores?\n",
    "\n",
    "Você acertar 6 dezenas deve ser uma baita sorte, mas ter que dividir com vários vencedores? Shii... Essa com certeza deve ser a parte mais difícil. Mas, vamos lá, qual foi o sorteio em que mais se foi dividido o prêmio? Vamos achá-lo, é bem simples.\n",
    "\n"
   ]
  },
  {
   "cell_type": "code",
   "execution_count": 50,
   "metadata": {},
   "outputs": [
    {
     "data": {
      "text/html": [
       "<div>\n",
       "<style scoped>\n",
       "    .dataframe tbody tr th:only-of-type {\n",
       "        vertical-align: middle;\n",
       "    }\n",
       "\n",
       "    .dataframe tbody tr th {\n",
       "        vertical-align: top;\n",
       "    }\n",
       "\n",
       "    .dataframe thead th {\n",
       "        text-align: right;\n",
       "    }\n",
       "</style>\n",
       "<table border=\"1\" class=\"dataframe\">\n",
       "  <thead>\n",
       "    <tr style=\"text-align: right;\">\n",
       "      <th></th>\n",
       "      <th>Concurso</th>\n",
       "      <th>Data Sorteio</th>\n",
       "      <th>Dezena1</th>\n",
       "      <th>Dezena2</th>\n",
       "      <th>Dezena3</th>\n",
       "      <th>Dezena4</th>\n",
       "      <th>Dezena5</th>\n",
       "      <th>Dezena6</th>\n",
       "      <th>Arrecadacao_Total</th>\n",
       "      <th>Ganhadores_Sena</th>\n",
       "      <th>Rateio_Sena</th>\n",
       "      <th>Ganhadores_Quina</th>\n",
       "      <th>Rateio_Quina</th>\n",
       "      <th>Ganhadores_Quadra</th>\n",
       "      <th>Rateio_Quadra</th>\n",
       "      <th>Acumulado</th>\n",
       "      <th>Valor_Acumulado</th>\n",
       "      <th>Estimativa_Prêmio</th>\n",
       "      <th>Premio</th>\n",
       "    </tr>\n",
       "  </thead>\n",
       "  <tbody>\n",
       "    <tr>\n",
       "      <th>1999</th>\n",
       "      <td>2000</td>\n",
       "      <td>2017-12-31</td>\n",
       "      <td>6</td>\n",
       "      <td>37</td>\n",
       "      <td>34</td>\n",
       "      <td>10</td>\n",
       "      <td>3</td>\n",
       "      <td>17</td>\n",
       "      <td>890947368.5</td>\n",
       "      <td>17</td>\n",
       "      <td>18042279.04</td>\n",
       "      <td>4862</td>\n",
       "      <td>10565.03</td>\n",
       "      <td>173428</td>\n",
       "      <td>423.12</td>\n",
       "      <td>NÃO</td>\n",
       "      <td>0.0</td>\n",
       "      <td>2000000</td>\n",
       "      <td>3.067187e+08</td>\n",
       "    </tr>\n",
       "  </tbody>\n",
       "</table>\n",
       "</div>"
      ],
      "text/plain": [
       "      Concurso Data Sorteio  Dezena1  Dezena2  Dezena3  Dezena4  Dezena5  \\\n",
       "1999      2000   2017-12-31        6       37       34       10        3   \n",
       "\n",
       "      Dezena6  Arrecadacao_Total  Ganhadores_Sena  Rateio_Sena  \\\n",
       "1999       17        890947368.5               17  18042279.04   \n",
       "\n",
       "      Ganhadores_Quina  Rateio_Quina  Ganhadores_Quadra  Rateio_Quadra  \\\n",
       "1999              4862      10565.03             173428         423.12   \n",
       "\n",
       "     Acumulado  Valor_Acumulado  Estimativa_Prêmio        Premio  \n",
       "1999       NÃO              0.0            2000000  3.067187e+08  "
      ]
     },
     "execution_count": 50,
     "metadata": {},
     "output_type": "execute_result"
    }
   ],
   "source": [
    "dados[dados[\"Ganhadores_Sena\"] == dados[\"Ganhadores_Sena\"].max()]"
   ]
  },
  {
   "cell_type": "markdown",
   "metadata": {},
   "source": [
    "Realizamos o mesmo procedimento do processo anterior, entretanto, com uma coluna diferente.\n",
    "E, para nossa surpresa, foi o mesmo concurso em que teve o maior prêmio dos últimos anos, o concurso ***2000***.\n",
    "Entretanto, como mostra o rateio, cada um ganhou ***R$180.042.279,04*** \n",
    "\n",
    "É... não deve ter sido tão difícil dividir um prêmio tão alto, rs."
   ]
  },
  {
   "cell_type": "markdown",
   "metadata": {},
   "source": [
    "# 1.3 Análise gráfica básica dos valores sorteados\n",
    "\n",
    "Utilizando a biblioteca [matplotlib](http://matplotlib.org/), faremos uma análise gráfica dos aumentos e declíneos dos valores já sorteados, levando em conta todos os anos do sorteiro. \n",
    "Essa biblioteca nos permite criar e customizar um gráfico usando a base de dados."
   ]
  },
  {
   "cell_type": "markdown",
   "metadata": {},
   "source": [
    "O módulo geralmente é importado como *plt*:\n",
    "\n",
    ">```python\n",
    "import matplotlib.pyplot as plt\n",
    "```\n",
    "\n",
    "Ele contém duas funções: \n",
    "\n",
    ">```python\n",
    "plt.plot()\n",
    "plt.show()\n",
    "```\n",
    "\n",
    "A *plt.plot()* gera o gráfico e a *plt.show()* imprime-o."
   ]
  },
  {
   "cell_type": "markdown",
   "metadata": {},
   "source": [
    "<br>\n",
    "<div class=\"alert alert-info\">\n",
    "<b>Gráfico 1</b>\n",
    "</div>"
   ]
  },
  {
   "cell_type": "code",
   "execution_count": 25,
   "metadata": {},
   "outputs": [
    {
     "data": {
      "image/png": "[encoded data removed]",
      "text/plain": [
       "<matplotlib.figure.Figure at 0x7f6b7dd34a58>"
      ]
     },
     "metadata": {},
     "output_type": "display_data"
    }
   ],
   "source": [
    "#Importaremos a biblioteca e geraremos o gráfico vázio.\n",
    "import matplotlib.pyplot as plt\n",
    "\n",
    "\n",
    "#Aumentamos o tamanho da figura\n",
    "plt.figure(figsize=(10,6))\n",
    "#Utilizaremos os prêmios como eixo Y e os anos como eixo X.\n",
    "plt.plot( dados[\"Data Sorteio\"], dados[\"Premio\"])\n",
    "#Eixo X seŕa nomeado com \"Anos\".\n",
    "plt.xlabel(\"Anos\")\n",
    "#Eixo Y será nomeado com \"Valor sorteado\".\n",
    "plt.ylabel(\"Valor sorteado\")\n",
    "#O gráfico terá o título de \"Valor de cada sorteio baseado no ano.\"\n",
    "plt.title(\"Valor de cada sorteio baseado no ano.\")\n",
    "#E, por fim, utilizamos a função que imprime o gráfico.\n",
    "plt.show()"
   ]
  },
  {
   "cell_type": "markdown",
   "metadata": {},
   "source": [
    "É surpreendente a diferença a alta dos valores nos últimos 10 anos. Como, de 2010 para 2018 houveram índices bem maiores que de 1998 à 2010. Além disso, é importante não ver somente os picos mas as médias durante o ano, como são maiores."
   ]
  },
  {
   "cell_type": "markdown",
   "metadata": {},
   "source": [
    "Entretanto, não é bem justo se comparar somente com valores duas épocas em que o poder de consumo são bem diferentes, é importante também comparar o poder de consumo do brasileiro nesses dois tempos.\n",
    "Logo, separei alguns dados importantes para se comparar."
   ]
  },
  {
   "cell_type": "markdown",
   "metadata": {},
   "source": [
    "Salário Mínimo 2002: R$200,00.\n",
    "\n",
    "Salário Mínimo 2015: R$788,00"
   ]
  },
  {
   "cell_type": "markdown",
   "metadata": {},
   "source": [
    "Gasolina 2002: R$1,76.\n",
    "\n",
    "Gasolina 2015: R$3,26."
   ]
  },
  {
   "cell_type": "markdown",
   "metadata": {},
   "source": [
    "Dólar 2002: R$ 2,60. \n",
    "\n",
    "Dólar 2015: R$ 4,00."
   ]
  },
  {
   "cell_type": "markdown",
   "metadata": {},
   "source": [
    "Salário de deputados 2002: R$ 8.000,00\n",
    "\n",
    "Salário de deputados 2015: R$ 33.700,00"
   ]
  },
  {
   "cell_type": "markdown",
   "metadata": {},
   "source": [
    "## 1.3 Análise baseada nos 4 últimos governos\n",
    "\n",
    "A crise política brasileira vem afetando diversos pilares, um dos principais é a economia. Com a economia desrregulada, todos os pilares da sociedade são alterados, inclusive os jogos de sorte. Logo, visto que o sorteio da MegaSena é realizado pelo governo federal, resolvemos fazer uma análise relacionando um ao outros, as apostas, os valores e o governo atual daquele ano. "
   ]
  },
  {
   "cell_type": "markdown",
   "metadata": {},
   "source": [
    "Valendo ressaltar que nos últimos anos, passamos por 4 presidentes. O FHC, o Lula, a Dilma e o Michel Temer, e ambos se utilizaram de estratégias econômicas diferentes. Logo, faremos uma análise com parte do governo dos quatro.\n",
    "\n",
    "** É importante ressaltar que nem todos os governos estão completos. O governo do FHC começou em 1995, entretanto, nós só temos os dados a partir de 1996. E o governo de Michel Temer foi levado em conta que começou em 2016, mesmo o mandato só tenha sido iniciado em agosto.**\n",
    "\n",
    "Com isso, trabalharemos com as funções *subplots()*. Essa função nos ajudará a criar diversos gráficos, podendo ser um ao lado ou abaixo do outro. Ela é mais uma das funções da biblioteca *matplotlib.pyplot*."
   ]
  },
  {
   "cell_type": "markdown",
   "metadata": {},
   "source": [
    "<br>\n",
    "<div class=\"alert alert-info\">\n",
    "<b>Gráfico 2</b>\n",
    "</div>"
   ]
  },
  {
   "cell_type": "code",
   "execution_count": 94,
   "metadata": {
    "scrolled": false
   },
   "outputs": [
    {
     "data": {
      "text/plain": [
       "(0, 306718743.68)"
      ]
     },
     "execution_count": 94,
     "metadata": {},
     "output_type": "execute_result"
    },
    {
     "data": {
      "text/plain": [
       "<matplotlib.figure.Figure at 0x7f6b764b0e10>"
      ]
     },
     "metadata": {},
     "output_type": "display_data"
    },
    {
     "data": {
      "image/png": "[encoded data removed]",
      "text/plain": [
       "<matplotlib.figure.Figure at 0x7f6b6ecf4f60>"
      ]
     },
     "metadata": {},
     "output_type": "display_data"
    },
    {
     "data": {
      "image/png": "[encoded data removed]",
      "text/plain": [
       "<matplotlib.figure.Figure at 0x7f6b6e3f8358>"
      ]
     },
     "metadata": {},
     "output_type": "display_data"
    },
    {
     "data": {
      "image/png": "[encoded data removed]",
      "text/plain": [
       "<matplotlib.figure.Figure at 0x7f6b6e3ebdd8>"
      ]
     },
     "metadata": {},
     "output_type": "display_data"
    },
    {
     "data": {
      "image/png": "[encoded data removed]",
      "text/plain": [
       "<matplotlib.figure.Figure at 0x7f6b6e33cb38>"
      ]
     },
     "metadata": {},
     "output_type": "display_data"
    }
   ],
   "source": [
    "#PROCURAR METODO PARA POR O EIXO Y IGUAL EM TODOS SUBPLOTS.\n",
    "\n",
    "governoFH = dados[dados[\"Data Sorteio\"].dt.year == 1996]\n",
    "for i in range(1996, 2002):\n",
    "    a = dados[dados[\"Data Sorteio\"].dt.year == i]\n",
    "    governoFH = pd.concat([governoFH, a])\n",
    "\n",
    "\n",
    "governoLu = dados[dados[\"Data Sorteio\"].dt.year == 2002]\n",
    "\n",
    "for i in range(2003, 2010):\n",
    "    a = dados[dados[\"Data Sorteio\"].dt.year == i]\n",
    "    governoLu =  pd.concat([governoLu, a])\n",
    "\n",
    "governoDi = dados[dados[\"Data Sorteio\"].dt.year == 2010]\n",
    "    \n",
    "for j in range(2011, 2016):\n",
    "    b = dados[dados[\"Data Sorteio\"].dt.year == j]\n",
    "    governoDi = pd.concat([governoDi, b])\n",
    "\n",
    "governoTem = dados[dados[\"Data Sorteio\"].dt.year == 2016]\n",
    "    \n",
    "for k in range(2017, 2018):\n",
    "    c = dados[dados[\"Data Sorteio\"].dt.year == k]\n",
    "    governoTem = pd.concat([governoTem, c])\n",
    "\n",
    "fig = plt.figure(figsize=(30,30))\n",
    "\n",
    "  \n",
    "ax1 = governoFH.plot(kind=\"line\", x=\"Data Sorteio\", y=\"Premio\", c=(255/255,128/255,14/255), title=\"Governo FHC\")\n",
    "ax2 = governoLu.plot(kind=\"line\", x=\"Data Sorteio\", y=\"Premio\", c=(0/255, 107/255, 164/255), title=\"Governo Lula\")\n",
    "ax3 = governoDi.plot(kind=\"line\", x=\"Data Sorteio\", y=\"Premio\", c=(89/255, 89/255, 89/255), title=\"Governo Dilma\" )\n",
    "ax4 = governoTem.plot(kind=\"line\",x='Data Sorteio', y=\"Premio\", c=(200/255, 82/255, 0/255), title=\"Governo Temer\")\n",
    "Limite = dados[\"Premio\"].max()\n",
    "ax1.set_ylim(0,Limite)\n",
    "ax2.set_ylim(0,Limite)\n",
    "ax3.set_ylim(0,Limite)\n",
    "ax4.set_ylim(0,Limite)"
   ]
  },
  {
   "cell_type": "code",
   "execution_count": 66,
   "metadata": {},
   "outputs": [
    {
     "data": {
      "text/plain": [
       "[<matplotlib.lines.Line2D at 0x7f6b74e02e48>]"
      ]
     },
     "execution_count": 66,
     "metadata": {},
     "output_type": "execute_result"
    },
    {
     "data": {
      "image/png": "[encoded data removed]",
      "text/plain": [
       "<matplotlib.figure.Figure at 0x7f6b74eb4e80>"
      ]
     },
     "metadata": {},
     "output_type": "display_data"
    }
   ],
   "source": [
    "# Ou então, podemos fazer um gráfico só com cada governo.\n",
    "fig = plt.figure(figsize=(10,10))\n",
    "\n",
    "plt.plot(governoFH[\"Data Sorteio\"], governoFH[\"Premio\"], c=\"red\")\n",
    "plt.plot(governoLu[\"Data Sorteio\"], governoLu[\"Premio\"], c=\"blue\")\n",
    "plt.plot(governoDi[\"Data Sorteio\"], governoDi[\"Premio\"], c=\"green\")\n",
    "plt.plot(governoTem[\"Data Sorteio\"], governoTem[\"Premio\"], c=\"yellow\")"
   ]
  },
  {
   "cell_type": "markdown",
   "metadata": {},
   "source": [
    "### Valor médio por ano de cada governo."
   ]
  },
  {
   "cell_type": "markdown",
   "metadata": {},
   "source": [
    "Aqui analisaremos a média prêmio médio por concurso, de cada governo e, logo em seguida, a média de ganhador de cada concurso (Quadra, Quina e Sena). Visto que, prêmios altos pode ser significado  simplesmente de que ele foi acumulado. Logo, é mais justo ver a média pro "
   ]
  },
  {
   "cell_type": "code",
   "execution_count": 97,
   "metadata": {},
   "outputs": [
    {
     "name": "stdout",
     "output_type": "stream",
     "text": [
      "Media do governo de FHC: 2666358.6673412705\n",
      "Media Ganhadores da Quadra no Governo FHC: 0.025964599370115665\n",
      "Media Ganhadores da Quina no Governo FHC: 137.9052187200171\n",
      "Media Ganhadores da Sena no Governo FHC: 7656523.123333335\n",
      "\n",
      "\n",
      "Media do governo de Lula: 3736128.5233742343\n",
      "Media Ganhadores da Quadra no Governo Lula: 0.04042299337117383\n",
      "Media Ganhadores da Quina no Governo Lula: 192.88361936948823\n",
      "Media Ganhadores da Sena no Governo Lula: 10000929.640769236\n",
      "\n",
      "\n",
      "Media do governo de Dilma: 9402684.879559062\n",
      "Media Ganhadores da Quadra no Governo Dilma: 0.05246010503851507\n",
      "Media Ganhadores da Quina no Governo Dilma: 180.1674389750506\n",
      "Media Ganhadores da Sena no Governo Dilma: 15442938.258816797\n",
      "\n",
      "\n",
      "Media do governo de Temer: 8940985.11836\n",
      "Media Ganhadores da Quadra no Governo Temer: 0.11609047595464582\n",
      "Media Ganhadores da Quina no Governo Temer: 373.99258034610625\n",
      "Media Ganhadores da Sena no Governo Temer: 17606391.24448276\n",
      "\n",
      "\n"
     ]
    }
   ],
   "source": [
    "#Calcula a média de prêmio do governo FHC.\n",
    "mediaFH = sum(governoFH[\"Premio\"])/ governoFH[\"Premio\"].size\n",
    "#Imprime a média, passando-a para String.\n",
    "print(\"Media do governo de FHC: \" + str(mediaFH))\n",
    "\n",
    "#Os 3 métodos abaixo seguem a mesma lógica, ele \n",
    "MediaQuadra1 = sum(governoFH[\"Rateio_Quadra\"]) / sum(governoFH[\"Ganhadores_Quadra\"])\n",
    "print(\"Media Ganhadores da Quadra no Governo FHC: \" + str(MediaQuadra))\n",
    "\n",
    "MediaQuina1 = sum(governoFH[\"Rateio_Quina\"]) / sum(governoFH[\"Ganhadores_Quina\"])\n",
    "print(\"Media Ganhadores da Quina no Governo FHC: \" + str(MediaQuina))\n",
    "\n",
    "MediaSena1 = sum(governoFH[\"Rateio_Sena\"]) / sum(governoFH[\"Ganhadores_Sena\"])\n",
    "print(\"Media Ganhadores da Sena no Governo FHC: \" + str(MediaSena))\n",
    "print(\"\\n\")\n",
    "\n",
    "\n",
    "#Calcula a média de prêmio do governo Lula.\n",
    "mediaLU = sum(governoLu[\"Premio\"])/ governoLu[\"Premio\"].size\n",
    "#Imprime a média, passando-a para String.\n",
    "print(\"Media do governo de Lula: \" + str(mediaLU))\n",
    "\n",
    "MediaQuadra2 = sum(governoLu[\"Rateio_Quadra\"]) / sum(governoLu[\"Ganhadores_Quadra\"])\n",
    "print(\"Media Ganhadores da Quadra no Governo Lula: \" + str(MediaQuadra2))\n",
    "\n",
    "MediaQuina2 = sum(governoLu[\"Rateio_Quina\"]) / sum(governoLu[\"Ganhadores_Quina\"])\n",
    "print(\"Media Ganhadores da Quina no Governo Lula: \" + str(MediaQuina2))\n",
    "\n",
    "MediaSena2 = sum(governoLu[\"Rateio_Sena\"]) / sum(governoLu[\"Ganhadores_Sena\"])\n",
    "print(\"Media Ganhadores da Sena no Governo Lula: \" + str(MediaSena2))\n",
    "print(\"\\n\")\n",
    "\n",
    "\n",
    "#Calcula a média de prêmio do governo Dilma.\n",
    "mediaDi = sum(governoDi[\"Premio\"])/ governoDi[\"Premio\"].size\n",
    "#Imprime a média, passando-a para String.\n",
    "print(\"Media do governo de Dilma: \" + str(mediaDi))\n",
    "\n",
    "MediaQuadra3 = sum(governoDi[\"Rateio_Quadra\"]) / sum(governoDi[\"Ganhadores_Quadra\"])\n",
    "print(\"Media Ganhadores da Quadra no Governo Dilma: \" + str(MediaQuadra3))\n",
    "\n",
    "MediaQuina3 = sum(governoDi[\"Rateio_Quina\"]) / sum(governoDi[\"Ganhadores_Quina\"])\n",
    "print(\"Media Ganhadores da Quina no Governo Dilma: \" + str(MediaQuina3))\n",
    "\n",
    "MediaSena3 = sum(governoDi[\"Rateio_Sena\"]) / sum(governoDi[\"Ganhadores_Sena\"])\n",
    "print(\"Media Ganhadores da Sena no Governo Dilma: \" + str(MediaSena3))\n",
    "print(\"\\n\")\n",
    "\n",
    "\n",
    "#Calcula a média de prêmio do governo Temer.\n",
    "mediaTe = sum(governoTem[\"Premio\"])/governoTem[\"Premio\"].size\n",
    "#Imprime a média, passando-a para String.\n",
    "print(\"Media do governo de Temer: \" + str(mediaTe))\n",
    "\n",
    "MediaQuadra4 = sum(governoTem[\"Rateio_Quadra\"]) / sum(governoTem[\"Ganhadores_Quadra\"])\n",
    "print(\"Media Ganhadores da Quadra no Governo Temer: \" + str(MediaQuadra4))\n",
    "\n",
    "MediaQuina4 = sum(governoTem[\"Rateio_Quina\"]) / sum(governoTem[\"Ganhadores_Quina\"])\n",
    "print(\"Media Ganhadores da Quina no Governo Temer: \" + str(MediaQuina4))\n",
    "\n",
    "MediaSena4 = sum(governoTem[\"Rateio_Sena\"]) / sum(governoTem[\"Ganhadores_Sena\"])\n",
    "print(\"Media Ganhadores da Sena no Governo Temer: \" + str(MediaSena4))\n",
    "print(\"\\n\")"
   ]
  }
 ],
 "metadata": {
  "kernelspec": {
   "display_name": "Python 3",
   "language": "python",
   "name": "python3"
  },
  "language_info": {
   "codemirror_mode": {
    "name": "ipython",
    "version": 3
   },
   "file_extension": ".py",
   "mimetype": "text/x-python",
   "name": "python",
   "nbconvert_exporter": "python",
   "pygments_lexer": "ipython3",
   "version": "3.6.4"
  }
 },
 "nbformat": 4,
 "nbformat_minor": 2
}
