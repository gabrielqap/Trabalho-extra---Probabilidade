{
 "cells": [
  {
   "cell_type": "markdown",
   "metadata": {},
   "source": [
    "## Trabalho extra -  Unidade 1 \n",
    "\n",
    "- **Aluno :**: Gabriel Queiroz de Almeida Pereira\n",
    "- **Matrícula: **: 20150128108\n",
    "- **Professor: **: Ivanovitch\n"
   ]
  },
  {
   "cell_type": "markdown",
   "metadata": {},
   "source": [
    "## 1.1 Introdução\n",
    "\n",
    "Esse documento tem como base de dados 2025 sorteios da Mega Sena e demonstra os mais diversos detalhes a cerca dos sorteios, como por exemplo: nº de ganhadores, prêmios acumulados, as 6 dezenas sorteiadas daquela edição, etc. E, ao decorrer dele, faremos uma análise sobre diversos dados contido nele.\n",
    "\n",
    "\n",
    "A base de dados está em formato de planilha em excel. Para carregar esse arquivo em formato de dataframe utilizarames o código abaixo:\n",
    "\n",
    ">```python\n",
    "# Importa as bibliotecas necessárias\n",
    "import pandas as pd\n",
    "# Atribue o nome da planilha para a variável \"arquivo\"\n",
    "arquivo = 'basedados.xlsx'\n",
    "# Carrega a base de dados para um objeto pandas.io.excel.ExcelFile\n",
    "excel = pd.ExcelFile(arquivo)\n",
    "# Imprime o nome das planilhas\n",
    "print(excel.sheet_names)\n",
    "# Carrega a planilha excel para um objeto dataframe\n",
    "dados = excel.parse(0)\n",
    "# Imprime as cinco primeiras linhas do dataframe\n",
    "dados.head()\n",
    "```"
   ]
  },
  {
   "cell_type": "code",
   "execution_count": 44,
   "metadata": {
    "scrolled": true
   },
   "outputs": [
    {
     "name": "stdout",
     "output_type": "stream",
     "text": [
      "['MegaSena']\n"
     ]
    },
    {
     "data": {
      "text/plain": [
       "205329753.89"
      ]
     },
     "execution_count": 44,
     "metadata": {},
     "output_type": "execute_result"
    }
   ],
   "source": [
    "import pandas as pd\n",
    "arquivo = 'basedados.xlsx'\n",
    "excel = pd.ExcelFile(arquivo)\n",
    "print(excel.sheet_names)\n",
    "dados = excel.parse(0)\n",
    "dados[\"Rateio_Sena\"].max()"
   ]
  },
  {
   "cell_type": "markdown",
   "metadata": {},
   "source": [
    "## 1.2 Análise geral básica dos valores sorteados\n",
    "\n",
    "Utilizando a biblioteca [matplotlib](http://matplotlib.org/), faremos uma análise gráfica dos aumentos e declíneos dos valores já sorteados, levando em conta todos os anos do sorteiro. \n",
    "Essa biblioteca nos permite criar e customizar um gráfico usando a base de dados."
   ]
  },
  {
   "cell_type": "markdown",
   "metadata": {},
   "source": [
    "O módulo geralmente é importado como *plt*:\n",
    "\n",
    ">```python\n",
    "import matplotlib.pyplot as plt\n",
    "```\n",
    "\n",
    "Ele contém duas funções: \n",
    "\n",
    ">```python\n",
    "plt.plot()\n",
    "plt.show()\n",
    "```\n",
    "\n",
    "A *plt.plot()* gera o gráfico e a *plt.show* imprime-o."
   ]
  },
  {
   "cell_type": "markdown",
   "metadata": {},
   "source": [
    "<br>\n",
    "<div class=\"alert alert-info\">\n",
    "<b>Gráfico 1</b>\n",
    "</div>"
   ]
  },
  {
   "cell_type": "code",
   "execution_count": 46,
   "metadata": {},
   "outputs": [
    {
     "data": {
      "text/plain": [
       "Text(0.5,1,'Valor de cada sorteio baseado no ano.')"
      ]
     },
     "execution_count": 46,
     "metadata": {},
     "output_type": "execute_result"
    },
    {
     "data": {
      "image/png": "[encoded data removed]",
      "text/plain": [
       "<matplotlib.figure.Figure at 0x7f88e6152860>"
      ]
     },
     "metadata": {},
     "output_type": "display_data"
    }
   ],
   "source": [
    "#Importaremos a biblioteca e geraremos o gráfico vázio.\n",
    "import matplotlib.pyplot as plt\n",
    "\n",
    "\n",
    "#Utilizaremos os valores como eixo Y e os anos como eixo X.\n",
    "plt.figure(figsize=(10,6))\n",
    "plt.plot( dados[\"Data Sorteio\"], dados[\"Rateio_Sena\"])\n",
    "plt.xlabel(\"Anos\")\n",
    "plt.ylabel(\"Valor sorteado\")\n",
    "plt.title(\"Valor de cada sorteio baseado no ano.\")"
   ]
  },
  {
   "cell_type": "markdown",
   "metadata": {},
   "source": [
    "É surpreendente a diferença a alta dos valores nos últimos 10 anos. Como, de 2008 para 2018 houveram índices bem maiores que de 1998 à 2008."
   ]
  },
  {
   "cell_type": "code",
   "execution_count": 1,
   "metadata": {},
   "outputs": [],
   "source": [
    "#É interessante que se ponha AQUI subplots de 1998-2008 e 2008-2018\n",
    "#Lembrar de procurar a função que dividirá por anos."
   ]
  },
  {
   "cell_type": "markdown",
   "metadata": {},
   "source": [
    "## 1.3 Análise baseada em Governos.\n",
    "\n",
    "A crise política brasileira vem afetando diversos pilares, um dos principais é a economia. Com a economia desrregulada, todos os pilares da sociedade são alterados, inclusive os jogos de sorte. Logo, visto que o sorteiro da MegaSena é realizado pelo governo federal, resolvemos fazer uma análise relacionando um ao outros, as apostas, os valores e o governo atual daquele ano. "
   ]
  },
  {
   "cell_type": "markdown",
   "metadata": {},
   "source": [
    "Valendo ressaltar que nos últimos anos, passamos por 3 presidentes. O Lula, a Dilma e o Michel Temer, e ambos se utilizaram de estratégias econômicas diferentes. Logo, faremos uma análise com parte do governo dos três."
   ]
  },
  {
   "cell_type": "markdown",
   "metadata": {},
   "source": [
    "<br>\n",
    "<div class=\"alert alert-info\">\n",
    "<b>Gráfico 2</b>\n",
    "</div>"
   ]
  },
  {
   "cell_type": "code",
   "execution_count": 4,
   "metadata": {},
   "outputs": [],
   "source": [
    "#Aqui, se dividirá os anos da Mega-Sena por anos.\n",
    "#Primeiro, veremos o gráfico dos dois ultimos anos do governo Lula.\n",
    "#Depois, veremos o gráfico dos 6 anos de governo Dilma.\n",
    "#Logo em seguida, veremos os dois ultimos anos no governo Temer.\n",
    "#Ressaltaremos também que o real teve uma desvalorizada ENORME nos ultimos anos.\n",
    "#Lembrar também de comparar com o dolar daqueles anos."
   ]
  }
 ],
 "metadata": {
  "kernelspec": {
   "display_name": "Python 3",
   "language": "python",
   "name": "python3"
  },
  "language_info": {
   "codemirror_mode": {
    "name": "ipython",
    "version": 3
   },
   "file_extension": ".py",
   "mimetype": "text/x-python",
   "name": "python",
   "nbconvert_exporter": "python",
   "pygments_lexer": "ipython3",
   "version": "3.6.4"
  }
 },
 "nbformat": 4,
 "nbformat_minor": 2
}
